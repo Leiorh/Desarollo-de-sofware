{
 "cells": [
  {
   "cell_type": "code",
   "execution_count": null,
   "id": "606863e5-7d25-4875-9cf9-e742eebd6d31",
   "metadata": {},
   "outputs": [],
   "source": [
    "import random\n",
    "\n",
    "# Lista de palabras para el juego\n",
    "palabras = [\"Ecuador\", \"Navidad\", \"Encebollado\", \"Programacion\", \"Fanesca\"]\n",
    "\n",
    "def iniciar_juego():\n",
    "    palabra = random.choice(palabras).lower()\n",
    "    letras_adivinadas = [\"_\"] * len(palabra)\n",
    "    intentos = 6\n",
    "    letras_usadas = []\n",
    "    \n",
    "    while intentos > 0:\n",
    "        print(\"\\nPalabra:\", \" \".join(letras_adivinadas))\n",
    "        print(\"Intentos restantes:\", intentos)\n",
    "        print(\"Letras usadas:\", \", \".join(letras_usadas))\n",
    "        \n",
    "        letra = input(\"Ingresa una letra: \").lower()\n",
    "        "
   ]
  }
 ],
 "metadata": {
  "kernelspec": {
   "display_name": "Python 3 (ipykernel)",
   "language": "python",
   "name": "python3"
  },
  "language_info": {
   "codemirror_mode": {
    "name": "ipython",
    "version": 3
   },
   "file_extension": ".py",
   "mimetype": "text/x-python",
   "name": "python",
   "nbconvert_exporter": "python",
   "pygments_lexer": "ipython3",
   "version": "3.11.5"
  }
 },
 "nbformat": 4,
 "nbformat_minor": 5
}
